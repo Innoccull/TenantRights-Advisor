{
 "cells": [
  {
   "cell_type": "markdown",
   "metadata": {},
   "source": [
    "## Generate response"
   ]
  },
  {
   "cell_type": "code",
   "execution_count": 11,
   "metadata": {},
   "outputs": [],
   "source": [
    "from langchain.vectorstores.chroma import Chroma\n",
    "from langchain.prompts import ChatPromptTemplate\n",
    "from langchain.embeddings.sentence_transformer import SentenceTransformerEmbeddings\n",
    "from langchain.llms import HuggingFaceHub\n",
    "import os\n",
    "from langchain.embeddings import VoyageEmbeddings\n",
    "from dotenv import load_dotenv"
   ]
  },
  {
   "cell_type": "code",
   "execution_count": 15,
   "metadata": {},
   "outputs": [
    {
     "data": {
      "text/plain": [
       "True"
      ]
     },
     "execution_count": 15,
     "metadata": {},
     "output_type": "execute_result"
    }
   ],
   "source": [
    "CHROMA_ADVICE_PATH = \"chroma\\\\advice\"\n",
    "CHROMA_TRIBUNAL_PATH = \"chroma\\\\tribunal\"\n",
    "repo_id = \"google/flan-t5-xxl\"\n",
    "load_dotenv()"
   ]
  },
  {
   "cell_type": "code",
   "execution_count": 16,
   "metadata": {},
   "outputs": [],
   "source": [
    "SUMMARY_PROMPT_TEMPLATE = \"\"\"\n",
    "\n",
    "Summarise: {question}\n",
    "\"\"\""
   ]
  },
  {
   "cell_type": "code",
   "execution_count": 17,
   "metadata": {},
   "outputs": [],
   "source": [
    "QUESTION_PROMPT_TEMPLATE = \"\"\"\n",
    "Answer the question based only on the following context:\n",
    "\n",
    "{context}\n",
    "\n",
    "---\n",
    "\n",
    "Answer the question and provide a rationale based on the above context: {question}\n",
    "\"\"\""
   ]
  },
  {
   "cell_type": "code",
   "execution_count": 18,
   "metadata": {},
   "outputs": [
    {
     "name": "stderr",
     "output_type": "stream",
     "text": [
      "c:\\Users\\Chris\\anaconda3\\envs\\RAG\\Lib\\site-packages\\huggingface_hub\\utils\\_deprecation.py:127: FutureWarning: '__init__' (from 'huggingface_hub.inference_api') is deprecated and will be removed from version '0.19.0'. `InferenceApi` client is deprecated in favor of the more feature-complete `InferenceClient`. Check out this guide to learn how to convert your script to use it: https://huggingface.co/docs/huggingface_hub/guides/inference#legacy-inferenceapi-client.\n",
      "  warnings.warn(warning_message, FutureWarning)\n"
     ]
    }
   ],
   "source": [
    "# Submit propmt to model\n",
    "model = HuggingFaceHub(\n",
    "    repo_id=repo_id, model_kwargs={\"temperature\": 0.5, \"max_length\": 128}\n",
    ")"
   ]
  },
  {
   "cell_type": "code",
   "execution_count": 19,
   "metadata": {},
   "outputs": [],
   "source": [
    "original_query_text = \"For what reasons can a landlord terminate a tenancy?\""
   ]
  },
  {
   "cell_type": "code",
   "execution_count": 20,
   "metadata": {},
   "outputs": [],
   "source": [
    "# Create query prompt\n",
    "prompt_template = ChatPromptTemplate.from_template(SUMMARY_PROMPT_TEMPLATE)\n",
    "prompt = prompt_template.format(question = original_query_text)\n",
    "query_text = model.predict(prompt)"
   ]
  },
  {
   "cell_type": "code",
   "execution_count": 22,
   "metadata": {},
   "outputs": [],
   "source": [
    "# Prepare the DB.\n",
    "embedding_function = VoyageEmbeddings()\n",
    "advice_db = Chroma(persist_directory=CHROMA_ADVICE_PATH, embedding_function=embedding_function)"
   ]
  },
  {
   "cell_type": "code",
   "execution_count": 23,
   "metadata": {},
   "outputs": [
    {
     "data": {
      "text/plain": [
       "[(Document(page_content='A landlord can apply to the Tenancy Tribunal to end a tenancy for any of the reasons outlined below. The tenant can oppose this application. In most cases the tenant will need to show that the grounds are not valid.\\n\\nIf the landlord is successful then the Tribunal will decide what the notice period is.\\n\\nA landlord can apply to the Tenancy Tribunal to end a tenancy when the tenant is in rent arrears, in a number of different situations.', metadata={'link': 'https://tenant.aratohu.nz/ways-of-ending-a-tenancy/ending-a-tenancy-via-the-tenancy-tribunal/', 'source': 'data\\\\aratohu\\\\tribunal ending tenancy.md', 'start_index': 0}),\n",
       "  0.7925750015500597),\n",
       " (Document(page_content='ending the tenancy for anti-social behaviour if they consider that the landlord was motivated, even in part, by the tenant exercising their rights under the tenancy agreement or the law, or by any complaints about the landlord.', metadata={'link': 'https://tenant.aratohu.nz/ways-of-ending-a-tenancy/ending-a-tenancy-via-the-tenancy-tribunal/', 'source': 'data\\\\aratohu\\\\tribunal ending tenancy.md', 'start_index': 3635}),\n",
       "  0.7647114460449924),\n",
       " (Document(page_content='The landlord can apply to the Tenancy Tribunal for a termination of the tenancy if:\\n\\nThe tenant hasn’t got back on top of their rent payments as per a 14-day notice they have received from the landlord (s 56 RTA).\\n\\nThe tenant is at least 21 days behind in paying their rent (whether the landlord has sent a 14-day notice to remedy or not) (s 55(1)(a) RTA).', metadata={'link': 'https://tenant.aratohu.nz/rent-arrears/getting-into-rent-arrears/', 'source': 'data\\\\aratohu\\\\getting into rent arrears.md', 'start_index': 2558}),\n",
       "  0.7587547897980992)]"
      ]
     },
     "execution_count": 23,
     "metadata": {},
     "output_type": "execute_result"
    }
   ],
   "source": [
    "advice_db.similarity_search_with_relevance_scores(query_text, k=3)"
   ]
  },
  {
   "cell_type": "code",
   "execution_count": 32,
   "metadata": {},
   "outputs": [
    {
     "data": {
      "text/plain": [
       "dict_keys(['ids', 'embeddings', 'metadatas', 'documents', 'uris', 'data'])"
      ]
     },
     "execution_count": 32,
     "metadata": {},
     "output_type": "execute_result"
    }
   ],
   "source": [
    "advice_db.get(where={\"source\" : \"data\\\\aratohu\\\\abandoned goods.md\"}).keys()"
   ]
  },
  {
   "cell_type": "code",
   "execution_count": 33,
   "metadata": {},
   "outputs": [
    {
     "data": {
      "text/plain": [
       "['It’s the tenant’s responsibility to remove their property at the end of the tenancy. If they don’t do this, their belongings may end up being disposed of or sold.\\n\\nIf the tenant leaves goods behind after the end of the tenancy, there are rules the landlord must follow in dealing with them (s 62 RTA).']"
      ]
     },
     "execution_count": 33,
     "metadata": {},
     "output_type": "execute_result"
    }
   ],
   "source": [
    "advice_db.get(where={\"source\" : \"data\\\\aratohu\\\\abandoned goods.md\"})['documents']"
   ]
  },
  {
   "cell_type": "code",
   "execution_count": 15,
   "metadata": {},
   "outputs": [
    {
     "name": "stdout",
     "output_type": "stream",
     "text": [
      "[]\n",
      "Unable to find matching results.\n"
     ]
    }
   ],
   "source": [
    "# Prepare the prompt\n",
    "advice_results = advice_db.similarity_search_with_relevance_scores(query_text, k=3)\n",
    "\n",
    "\n",
    "results = advice_results \n",
    "\n",
    "print(results)\n",
    "\n",
    "if len(results) == 0 or results[0][1] < 0.4:\n",
    "    print(f\"Unable to find matching results.\")\n",
    "else:\n",
    "    context_text = \"\\n\\n---\\n\\n\".join([doc.page_content for doc, _score in results])\n",
    "    prompt_template = ChatPromptTemplate.from_template(QUESTION_PROMPT_TEMPLATE)\n",
    "    prompt = prompt_template.format(context=context_text, question=query_text)\n",
    "    print(prompt)"
   ]
  },
  {
   "cell_type": "code",
   "execution_count": 55,
   "metadata": {},
   "outputs": [],
   "source": [
    "response_text = model.predict(prompt)"
   ]
  },
  {
   "cell_type": "code",
   "execution_count": 56,
   "metadata": {},
   "outputs": [
    {
     "name": "stdout",
     "output_type": "stream",
     "text": [
      "Response: Sometimes the landlord will be happy to mow the lawns and weed the garden, or they will hire a gardener to do it. If this is the case, it’s best if this arrangement is put in writing, preferably in the tenancy agreement at the start of the tenancy. This way, there is a clear record of the\n",
      "Sources: ['data\\\\aratohu\\\\outgoings and paying bills.md', 'data\\\\aratohu\\\\unenforceable and unlawful tenancy conditions.md', 'data\\\\aratohu\\\\types of maintenance.md', 'data\\\\tribunal\\\\tribunal_order_12.md', 'data\\\\tribunal\\\\tribunal_order_27.md', 'data\\\\tribunal\\\\tribunal_order_33.md']\n"
     ]
    }
   ],
   "source": [
    "sources = [doc.metadata.get(\"source\", None) for doc, _score in results]\n",
    "formatted_response = f\"Response: {response_text}\\nSources: {sources}\"\n",
    "print(formatted_response)"
   ]
  }
 ],
 "metadata": {
  "kernelspec": {
   "display_name": "tenancy_tribunal",
   "language": "python",
   "name": "python3"
  },
  "language_info": {
   "codemirror_mode": {
    "name": "ipython",
    "version": 3
   },
   "file_extension": ".py",
   "mimetype": "text/x-python",
   "name": "python",
   "nbconvert_exporter": "python",
   "pygments_lexer": "ipython3",
   "version": "3.11.5"
  }
 },
 "nbformat": 4,
 "nbformat_minor": 2
}
