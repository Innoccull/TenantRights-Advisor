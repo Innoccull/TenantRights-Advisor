{
 "cells": [
  {
   "cell_type": "markdown",
   "metadata": {},
   "source": [
    "## Generate response"
   ]
  },
  {
   "cell_type": "code",
   "execution_count": 1,
   "metadata": {},
   "outputs": [],
   "source": [
    "from langchain.vectorstores.chroma import Chroma\n",
    "from langchain.prompts import ChatPromptTemplate\n",
    "from langchain.embeddings.sentence_transformer import SentenceTransformerEmbeddings\n",
    "from langchain.llms import HuggingFaceHub\n",
    "import os\n",
    "from langchain.embeddings import VoyageEmbeddings\n",
    "from dotenv import load_dotenv"
   ]
  },
  {
   "cell_type": "code",
   "execution_count": 2,
   "metadata": {},
   "outputs": [
    {
     "data": {
      "text/plain": [
       "True"
      ]
     },
     "execution_count": 2,
     "metadata": {},
     "output_type": "execute_result"
    }
   ],
   "source": [
    "CHROMA_ADVICE_PATH = \"chroma\\\\advice\"\n",
    "CHROMA_TRIBUNAL_PATH = \"chroma\\\\tribunal\"\n",
    "repo_id = \"google/flan-t5-xxl\"\n",
    "load_dotenv()"
   ]
  },
  {
   "cell_type": "code",
   "execution_count": 3,
   "metadata": {},
   "outputs": [],
   "source": [
    "SUMMARY_PROMPT_TEMPLATE = \"\"\"\n",
    "\n",
    "Summarise: {question}\n",
    "\"\"\""
   ]
  },
  {
   "cell_type": "code",
   "execution_count": 4,
   "metadata": {},
   "outputs": [],
   "source": [
    "QUESTION_PROMPT_TEMPLATE = \"\"\"\n",
    "Answer the question based only on the following context:\n",
    "\n",
    "{context}\n",
    "\n",
    "---\n",
    "\n",
    "Answer the question and provide a rationale based on the above context: {question}\n",
    "\"\"\""
   ]
  },
  {
   "cell_type": "code",
   "execution_count": 5,
   "metadata": {},
   "outputs": [
    {
     "name": "stderr",
     "output_type": "stream",
     "text": [
      "c:\\Users\\Chris\\anaconda3\\envs\\RAG\\Lib\\site-packages\\tqdm\\auto.py:21: TqdmWarning: IProgress not found. Please update jupyter and ipywidgets. See https://ipywidgets.readthedocs.io/en/stable/user_install.html\n",
      "  from .autonotebook import tqdm as notebook_tqdm\n",
      "c:\\Users\\Chris\\anaconda3\\envs\\RAG\\Lib\\site-packages\\huggingface_hub\\utils\\_deprecation.py:127: FutureWarning: '__init__' (from 'huggingface_hub.inference_api') is deprecated and will be removed from version '0.19.0'. `InferenceApi` client is deprecated in favor of the more feature-complete `InferenceClient`. Check out this guide to learn how to convert your script to use it: https://huggingface.co/docs/huggingface_hub/guides/inference#legacy-inferenceapi-client.\n",
      "  warnings.warn(warning_message, FutureWarning)\n"
     ]
    }
   ],
   "source": [
    "# Submit propmt to model\n",
    "model = HuggingFaceHub(\n",
    "    repo_id=repo_id, model_kwargs={\"temperature\": 0.5, \"max_length\": 128}\n",
    ")"
   ]
  },
  {
   "cell_type": "code",
   "execution_count": 6,
   "metadata": {},
   "outputs": [],
   "source": [
    "original_query_text = \"For what reasons can a landlord terminate a tenancy?\""
   ]
  },
  {
   "cell_type": "code",
   "execution_count": 7,
   "metadata": {},
   "outputs": [],
   "source": [
    "# Create query prompt\n",
    "prompt_template = ChatPromptTemplate.from_template(SUMMARY_PROMPT_TEMPLATE)\n",
    "prompt = prompt_template.format(question = original_query_text)\n",
    "query_text = model.predict(prompt)"
   ]
  },
  {
   "cell_type": "code",
   "execution_count": 8,
   "metadata": {},
   "outputs": [],
   "source": [
    "# Prepare the DB.\n",
    "embedding_function = VoyageEmbeddings()\n",
    "advice_db = Chroma(persist_directory=CHROMA_ADVICE_PATH, embedding_function=embedding_function)"
   ]
  },
  {
   "cell_type": "code",
   "execution_count": 13,
   "metadata": {},
   "outputs": [],
   "source": [
    "advice_results = advice_db.similarity_search_with_relevance_scores(query_text, k=3)"
   ]
  },
  {
   "cell_type": "code",
   "execution_count": 15,
   "metadata": {},
   "outputs": [
    {
     "data": {
      "text/plain": [
       "(Document(page_content='A landlord can apply to the Tenancy Tribunal to end a tenancy for any of the reasons outlined below. The tenant can oppose this application. In most cases the tenant will need to show that the grounds are not valid.\\n\\nIf the landlord is successful then the Tribunal will decide what the notice period is.', metadata={'link': 'https://tenant.aratohu.nz/ways-of-ending-a-tenancy/ending-a-tenancy-via-the-tenancy-tribunal/', 'source': 'data\\\\aratohu\\\\tribunal ending tenancy.md', 'start_index': 0}),\n",
       " 0.7579436104782342)"
      ]
     },
     "execution_count": 15,
     "metadata": {},
     "output_type": "execute_result"
    }
   ],
   "source": [
    "advice_results[0]"
   ]
  },
  {
   "cell_type": "code",
   "execution_count": 16,
   "metadata": {},
   "outputs": [
    {
     "data": {
      "text/plain": [
       "{'ids': ['effc9653-ac1b-11ee-9ba6-a86bad711010',\n",
       "  'effc9654-ac1b-11ee-992e-a86bad711010',\n",
       "  'effc9655-ac1b-11ee-adb5-a86bad711010'],\n",
       " 'embeddings': None,\n",
       " 'metadatas': [{'link': 'https://tenant.aratohu.nz/after-the-tenancy/abandoned-goods/',\n",
       "   'source': 'data\\\\aratohu\\\\abandoned goods.md',\n",
       "   'start_index': 0},\n",
       "  {'link': 'https://tenant.aratohu.nz/after-the-tenancy/abandoned-goods/',\n",
       "   'source': 'data\\\\aratohu\\\\abandoned goods.md',\n",
       "   'start_index': 301},\n",
       "  {'link': 'https://tenant.aratohu.nz/after-the-tenancy/abandoned-goods/',\n",
       "   'source': 'data\\\\aratohu\\\\abandoned goods.md',\n",
       "   'start_index': 533}],\n",
       " 'documents': ['It’s the tenant’s responsibility to remove their property at the end of the tenancy. If they don’t do this, their belongings may end up being disposed of or sold.\\nIf the tenant leaves goods behind after the end of the tenancy, there are rules the landlord must follow in dealing with them (s 62 RTA).\\nThe landlord can dispose of perishable items (eg, food) immediately.',\n",
       "  'The landlord can dispose of perishable items (eg, food) immediately.\\nThe landlord must make reasonable efforts to contact the tenant and to agree with the tenant on a reasonable amount of time for them to retrieve their belongings.',\n",
       "  'If the landlord doesn’t manage to contact the tenant, or the tenant doesn’t pick up their property as agreed, then the landlord can either: apply to the Tenancy Tribunal for an order determining what to do with the belongings (ie, order the goods to be disposed of, returned to the tenant, or sold by the landlord), or store, sell or dispose of the tenant’s belongings in accordance with the required process. See Tenancy Services information about abandoned goods for more information.'],\n",
       " 'uris': None,\n",
       " 'data': None}"
      ]
     },
     "execution_count": 16,
     "metadata": {},
     "output_type": "execute_result"
    }
   ],
   "source": [
    "advice_db.get(where={\"source\" : \"data\\\\aratohu\\\\abandoned goods.md\"})"
   ]
  },
  {
   "cell_type": "code",
   "execution_count": 12,
   "metadata": {},
   "outputs": [
    {
     "data": {
      "text/plain": [
       "{'ids': ['effc9655-ac1b-11ee-adb5-a86bad711010'],\n",
       " 'embeddings': None,\n",
       " 'metadatas': [{'link': 'https://tenant.aratohu.nz/after-the-tenancy/abandoned-goods/',\n",
       "   'source': 'data\\\\aratohu\\\\abandoned goods.md',\n",
       "   'start_index': 533}],\n",
       " 'documents': ['If the landlord doesn’t manage to contact the tenant, or the tenant doesn’t pick up their property as agreed, then the landlord can either: apply to the Tenancy Tribunal for an order determining what to do with the belongings (ie, order the goods to be disposed of, returned to the tenant, or sold by the landlord), or store, sell or dispose of the tenant’s belongings in accordance with the required process. See Tenancy Services information about abandoned goods for more information.'],\n",
       " 'uris': None,\n",
       " 'data': None}"
      ]
     },
     "execution_count": 12,
     "metadata": {},
     "output_type": "execute_result"
    }
   ],
   "source": [
    "advice_db.get(where={\n",
    "    \"$and\": [\n",
    "        {\n",
    "            \"start_index\" : { \n",
    "                \"$gt\" : 301\n",
    "            }\n",
    "        },\n",
    "        {\n",
    "            \"source\": {\n",
    "                \"$eq\": \"data\\\\aratohu\\\\abandoned goods.md\"\n",
    "            }\n",
    "        }\n",
    "         ]})"
   ]
  },
  {
   "cell_type": "code",
   "execution_count": 15,
   "metadata": {},
   "outputs": [
    {
     "name": "stdout",
     "output_type": "stream",
     "text": [
      "[]\n",
      "Unable to find matching results.\n"
     ]
    }
   ],
   "source": [
    "# Prepare the prompt\n",
    "advice_results = advice_db.similarity_search_with_relevance_scores(query_text, k=3)\n",
    "\n",
    "\n",
    "results = advice_results \n",
    "\n",
    "print(results)\n",
    "\n",
    "if len(results) == 0 or results[0][1] < 0.4:\n",
    "    print(f\"Unable to find matching results.\")\n",
    "else:\n",
    "    context_text = \"\\n\\n---\\n\\n\".join([doc.page_content for doc, _score in results])\n",
    "    prompt_template = ChatPromptTemplate.from_template(QUESTION_PROMPT_TEMPLATE)\n",
    "    prompt = prompt_template.format(context=context_text, question=query_text)\n",
    "    print(prompt)"
   ]
  },
  {
   "cell_type": "code",
   "execution_count": 55,
   "metadata": {},
   "outputs": [],
   "source": [
    "response_text = model.predict(prompt)"
   ]
  },
  {
   "cell_type": "code",
   "execution_count": 56,
   "metadata": {},
   "outputs": [
    {
     "name": "stdout",
     "output_type": "stream",
     "text": [
      "Response: Sometimes the landlord will be happy to mow the lawns and weed the garden, or they will hire a gardener to do it. If this is the case, it’s best if this arrangement is put in writing, preferably in the tenancy agreement at the start of the tenancy. This way, there is a clear record of the\n",
      "Sources: ['data\\\\aratohu\\\\outgoings and paying bills.md', 'data\\\\aratohu\\\\unenforceable and unlawful tenancy conditions.md', 'data\\\\aratohu\\\\types of maintenance.md', 'data\\\\tribunal\\\\tribunal_order_12.md', 'data\\\\tribunal\\\\tribunal_order_27.md', 'data\\\\tribunal\\\\tribunal_order_33.md']\n"
     ]
    }
   ],
   "source": [
    "sources = [doc.metadata.get(\"source\", None) for doc, _score in results]\n",
    "formatted_response = f\"Response: {response_text}\\nSources: {sources}\"\n",
    "print(formatted_response)"
   ]
  }
 ],
 "metadata": {
  "kernelspec": {
   "display_name": "tenancy_tribunal",
   "language": "python",
   "name": "python3"
  },
  "language_info": {
   "codemirror_mode": {
    "name": "ipython",
    "version": 3
   },
   "file_extension": ".py",
   "mimetype": "text/x-python",
   "name": "python",
   "nbconvert_exporter": "python",
   "pygments_lexer": "ipython3",
   "version": "3.11.5"
  }
 },
 "nbformat": 4,
 "nbformat_minor": 2
}
